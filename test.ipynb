{
 "cells": [
  {
   "cell_type": "code",
   "execution_count": 2,
   "metadata": {},
   "outputs": [],
   "source": [
    "import os \n",
    "import json "
   ]
  },
  {
   "cell_type": "code",
   "execution_count": 6,
   "metadata": {},
   "outputs": [
    {
     "data": {
      "text/plain": [
       "{'model_1_multimer_v2_pred_0': 0.29707766601886015,\n",
       " 'model_1_multimer_v2_pred_1': 0.21937566684480067,\n",
       " 'model_2_multimer_v2_pred_0': 0.22086914045887057,\n",
       " 'model_2_multimer_v2_pred_1': 0.2388609414222841,\n",
       " 'model_3_multimer_v2_pred_0': 0.22731171652384485,\n",
       " 'model_3_multimer_v2_pred_1': 0.229169238125779,\n",
       " 'model_4_multimer_v2_pred_0': 0.27981475032994174,\n",
       " 'model_4_multimer_v2_pred_1': 0.23758133277811608,\n",
       " 'model_5_multimer_v2_pred_0': 0.21520834894425,\n",
       " 'model_5_multimer_v2_pred_1': 0.327426114529893}"
      ]
     },
     "execution_count": 6,
     "metadata": {},
     "output_type": "execute_result"
    }
   ],
   "source": [
    "json.load(open(\"/p300s/wangmx_group/xutingfeng/protein_prediction/output/wanglab/PCSK9LDLR/af2/PCSK9_LDLR/ranking_debug.json\"))[\"iptm+ptm\"]"
   ]
  },
  {
   "cell_type": "code",
   "execution_count": null,
   "metadata": {},
   "outputs": [],
   "source": []
  }
 ],
 "metadata": {
  "kernelspec": {
   "display_name": "BioEmbedding",
   "language": "python",
   "name": "python3"
  },
  "language_info": {
   "codemirror_mode": {
    "name": "ipython",
    "version": 3
   },
   "file_extension": ".py",
   "mimetype": "text/x-python",
   "name": "python",
   "nbconvert_exporter": "python",
   "pygments_lexer": "ipython3",
   "version": "3.8.16"
  },
  "orig_nbformat": 4
 },
 "nbformat": 4,
 "nbformat_minor": 2
}
